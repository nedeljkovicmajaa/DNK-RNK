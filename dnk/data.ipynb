{
 "cells": [
  {
   "cell_type": "code",
   "execution_count": 102,
   "id": "1233784e",
   "metadata": {},
   "outputs": [
    {
     "name": "stdout",
     "output_type": "stream",
     "text": [
      "[[1, 1, 4, 2, 1, 1], [1, 4, 2, 1, 1, 4], [4, 2, 1, 1, 4, 1], [2, 1, 1, 4, 1, 1], [1, 1, 4, 1, 1, 2], [1, 4, 1, 1, 2, 4], [4, 1, 1, 2, 4, 1], [1, 1, 2, 4, 1, 1], [1, 2, 4, 1, 1, 4], [2, 4, 1, 1, 4, 1], [4, 1, 1, 4, 1, 4], [1, 1, 4, 1, 4, 3], [1, 4, 1, 4, 3, 1], [4, 1, 4, 3, 1, 4], [1, 4, 3, 1, 4, 3], [4, 3, 1, 4, 3, 3], [3, 1, 4, 3, 3, 1], [1, 4, 3, 3, 1, 4], [4, 3, 3, 1, 4, 4], [3, 3, 1, 4, 4, 4], [3, 1, 4, 4, 4, 4], [1, 4, 4, 4, 4, 1], [4, 4, 4, 4, 1, 4], [4, 4, 4, 1, 4, 2], [4, 4, 1, 4, 2, 1], [4, 1, 4, 2, 1, 4], [1, 4, 2, 1, 4, 1], [4, 2, 1, 4, 1, 4], [2, 1, 4, 1, 4, 1], [1, 4, 1, 4, 1, 4], [4, 1, 4, 1, 4, 2], [1, 4, 1, 4, 2, 3], [4, 1, 4, 2, 3, 3], [1, 4, 2, 3, 3, 4], [4, 2, 3, 3, 4, 4], [2, 3, 3, 4, 4, 4], [3, 3, 4, 4, 4, 4], [3, 4, 4, 4, 4, 4], [4, 4, 4, 4, 4, 1], [4, 4, 4, 4, 1, 2], [4, 4, 4, 1, 2, 4], [4, 4, 1, 2, 4, 1], [4, 1, 2, 4, 1, 1], [1, 2, 4, 1, 1, 4], [2, 4, 1, 1, 4, 1], [4, 1, 1, 4, 1, 3], [1, 1, 4, 1, 3, 4], [1, 4, 1, 3, 4, 4], [4, 1, 3, 4, 4, 3], [1, 3, 4, 4, 3, 4], [3, 4, 4, 3, 4, 2], [4, 4, 3, 4, 2, 1], [4, 3, 4, 2, 1, 4], [3, 4, 2, 1, 4, 2], [4, 2, 1, 4, 2, 1], [2, 1, 4, 2, 1, 4], [1, 4, 2, 1, 4, 1], [4, 2, 1, 4, 1, 2], [2, 1, 4, 1, 2, 4], [1, 4, 1, 2, 4, 3], [4, 1, 2, 4, 3, 2], [1, 2, 4, 3, 2, 2], [2, 4, 3, 2, 2, 1], [4, 3, 2, 2, 1, 4], [3, 2, 2, 1, 4, 4], [2, 2, 1, 4, 4, 4], [2, 1, 4, 4, 4, 1], [1, 4, 4, 4, 1, 4], [4, 4, 4, 1, 4, 4], [4, 4, 1, 4, 4, 1], [4, 1, 4, 4, 1, 1], [1, 4, 4, 1, 1, 1], [4, 4, 1, 1, 1, 3], [4, 1, 1, 1, 3, 2], [1, 1, 1, 3, 2, 4], [1, 1, 3, 2, 4, 2], [1, 3, 2, 4, 2, 1], [3, 2, 4, 2, 1, 1], [2, 4, 2, 1, 1, 1], [4, 2, 1, 1, 1, 1], [2, 1, 1, 1, 1, 4], [1, 1, 1, 1, 4, 4], [1, 1, 1, 4, 4, 1], [1, 1, 4, 4, 1, 4], [1, 4, 4, 1, 4, 3], [4, 4, 1, 4, 3, 3], [4, 1, 4, 3, 3, 1], [1, 4, 3, 3, 1, 1], [4, 3, 3, 1, 1, 4], [3, 3, 1, 1, 4, 1], [3, 1, 1, 4, 1, 1], [1, 1, 4, 1, 1, 1], [1, 4, 1, 1, 1, 4], [4, 1, 1, 1, 4, 2], [1, 1, 1, 4, 2, 4], [1, 1, 4, 2, 4, 4], [1, 4, 2, 4, 4, 2], [4, 2, 4, 4, 2, 2], [2, 4, 4, 2, 2, 1], [4, 4, 2, 2, 1, 1], [4, 2, 2, 1, 1, 4], [2, 2, 1, 1, 4, 1], [2, 1, 1, 4, 1, 1], [1, 1, 4, 1, 1, 2], [1, 4, 1, 1, 2, 1], [4, 1, 1, 2, 1, 3], [1, 1, 2, 1, 3, 3], [1, 2, 1, 3, 3, 4], [2, 1, 3, 3, 4, 4], [1, 3, 3, 4, 4, 2], [3, 3, 4, 4, 2, 4], [3, 4, 4, 2, 4, 1], [4, 4, 2, 4, 1, 4], [4, 2, 4, 1, 4, 3], [2, 4, 1, 4, 3, 3], [4, 1, 4, 3, 3, 1], [1, 4, 3, 3, 1, 4], [4, 3, 3, 1, 4, 1], [3, 3, 1, 4, 1, 2], [3, 1, 4, 1, 2, 2], [1, 4, 1, 2, 2, 3], [4, 1, 2, 2, 3, 2], [1, 2, 2, 3, 2, 1], [2, 2, 3, 2, 1, 4], [2, 3, 2, 1, 4, 1], [3, 2, 1, 4, 1, 4], [2, 1, 4, 1, 4, 3], [1, 4, 1, 4, 3, 4], [4, 1, 4, 3, 4, 1], [1, 4, 3, 4, 1, 1], [4, 3, 4, 1, 1, 1], [3, 4, 1, 1, 1, 2], [4, 1, 1, 1, 2, 4], [1, 1, 1, 2, 4, 2], [1, 1, 2, 4, 2, 4], [1, 2, 4, 2, 4, 1], [2, 4, 2, 4, 1, 2], [4, 2, 4, 1, 2, 1], [2, 4, 1, 2, 1, 2], [4, 1, 2, 1, 2, 1], [1, 2, 1, 2, 1, 1], [2, 1, 2, 1, 1, 2], [1, 2, 1, 1, 2, 1], [2, 1, 1, 2, 1, 1], [1, 1, 2, 1, 1, 3], [1, 2, 1, 1, 3, 1], [2, 1, 1, 3, 1, 3], [1, 1, 3, 1, 3, 1], [1, 3, 1, 3, 1, 1], [3, 1, 3, 1, 1, 4], [1, 3, 1, 1, 4, 4], [3, 1, 1, 4, 4, 4], [1, 1, 4, 4, 4, 4], [1, 4, 4, 4, 4, 1], [4, 4, 4, 4, 1, 4], [4, 4, 4, 1, 4, 3], [4, 4, 1, 4, 3, 1], [4, 1, 4, 3, 1, 2], [1, 4, 3, 1, 2, 4], [4, 3, 1, 2, 4, 4], [3, 1, 2, 4, 4, 2], [1, 2, 4, 4, 2, 2], [2, 4, 4, 2, 2, 1], [4, 4, 2, 2, 1, 2], [4, 2, 2, 1, 2, 4], [2, 2, 1, 2, 4, 4], [2, 1, 2, 4, 4, 4], [1, 2, 4, 4, 4, 1], [2, 4, 4, 4, 1, 4], [4, 4, 4, 1, 4, 3], [4, 4, 1, 4, 3, 2], [4, 1, 4, 3, 2, 4], [1, 4, 3, 2, 4, 4], [4, 3, 2, 4, 4, 1], [3, 2, 4, 4, 1, 4], [2, 4, 4, 1, 4, 1], [4, 4, 1, 4, 1, 4], [4, 1, 4, 1, 4, 4], [1, 4, 1, 4, 4, 1], [4, 1, 4, 4, 1, 4], [1, 4, 4, 1, 4, 2], [4, 4, 1, 4, 2, 2], [4, 1, 4, 2, 2, 1], [1, 4, 2, 2, 1, 1], [4, 2, 2, 1, 1, 3], [2, 2, 1, 1, 3, 4], [2, 1, 1, 3, 4, 4], [1, 1, 3, 4, 4, 2], [1, 3, 4, 4, 2, 1], [3, 4, 4, 2, 1, 3], [4, 4, 2, 1, 3, 4], [4, 2, 1, 3, 4, 2], [2, 1, 3, 4, 2, 1], [1, 3, 4, 2, 1, 2], [3, 4, 2, 1, 2, 3], [4, 2, 1, 2, 3, 1], [2, 1, 2, 3, 1, 2], [1, 2, 3, 1, 2, 4], [2, 3, 1, 2, 4, 3], [3, 1, 2, 4, 3, 1], [1, 2, 4, 3, 1, 1], [2, 4, 3, 1, 1, 1], [4, 3, 1, 1, 1, 4], [3, 1, 1, 1, 4, 1], [1, 1, 1, 4, 1, 1], [1, 1, 4, 1, 1, 2], [1, 4, 1, 1, 2, 4], [4, 1, 1, 2, 4, 3], [1, 1, 2, 4, 3, 1], [1, 2, 4, 3, 1, 4], [2, 4, 3, 1, 4, 2], [4, 3, 1, 4, 2, 2], [3, 1, 4, 2, 2, 2], [1, 4, 2, 2, 2, 3], [4, 2, 2, 2, 3, 1], [2, 2, 2, 3, 1, 2], [2, 2, 3, 1, 2, 4], [2, 3, 1, 2, 4, 3], [3, 1, 2, 4, 3, 3], [1, 2, 4, 3, 3, 1], [2, 4, 3, 3, 1, 2], [4, 3, 3, 1, 2, 3], [3, 3, 1, 2, 3, 1], [3, 1, 2, 3, 1, 1], [1, 2, 3, 1, 1, 2], [2, 3, 1, 1, 2, 1], [3, 1, 1, 2, 1, 2], [1, 1, 2, 1, 2, 1], [1, 2, 1, 2, 1, 2], [2, 1, 2, 1, 2, 4], [1, 2, 1, 2, 4, 3], [2, 1, 2, 4, 3, 4], [1, 2, 4, 3, 4, 2], [2, 4, 3, 4, 2, 1], [4, 3, 4, 2, 1, 2], [3, 4, 2, 1, 2, 1], [4, 2, 1, 2, 1, 1], [2, 1, 2, 1, 1, 2], [1, 2, 1, 1, 2, 4], [2, 1, 1, 2, 4, 4], [1, 1, 2, 4, 4, 4], [1, 2, 4, 4, 4, 4], [2, 4, 4, 4, 4, 2], [4, 4, 4, 4, 2, 2], [4, 4, 4, 2, 2, 4], [4, 4, 2, 2, 4, 3], [4, 2, 2, 4, 3, 1], [2, 2, 4, 3, 1, 2], [2, 4, 3, 1, 2, 4], [4, 3, 1, 2, 4, 1], [3, 1, 2, 4, 1, 1], [1, 2, 4, 1, 1, 1], [2, 4, 1, 1, 1, 3], [4, 1, 1, 1, 3, 3], [1, 1, 1, 3, 3, 1], [1, 1, 3, 3, 1, 4], [1, 3, 3, 1, 4, 3], [3, 3, 1, 4, 3, 3], [3, 1, 4, 3, 3, 2], [1, 4, 3, 3, 2, 2], [4, 3, 3, 2, 2, 3], [3, 3, 2, 2, 3, 3], [3, 2, 2, 3, 3, 4], [2, 2, 3, 3, 4, 1], [2, 3, 3, 4, 1, 1], [3, 3, 4, 1, 1, 1], [3, 4, 1, 1, 1, 4], [4, 1, 1, 1, 4, 4], [1, 1, 1, 4, 4, 2], [1, 1, 4, 4, 2, 2], [1, 4, 4, 2, 2, 3], [4, 4, 2, 2, 3, 4], [4, 2, 2, 3, 4, 2], [2, 2, 3, 4, 2, 4], [2, 3, 4, 2, 4, 1], [3, 4, 2, 4, 1, 2], [4, 2, 4, 1, 2, 4], [2, 4, 1, 2, 4, 4], [4, 1, 2, 4, 4, 2], [1, 2, 4, 4, 2, 1], [2, 4, 4, 2, 1, 1], [4, 4, 2, 1, 1, 3], [4, 2, 1, 1, 3, 1], [2, 1, 1, 3, 1, 3], [1, 1, 3, 1, 3, 4], [1, 3, 1, 3, 4, 4], [3, 1, 3, 4, 4, 1], [1, 3, 4, 4, 1, 4], [3, 4, 4, 1, 4, 3], [4, 4, 1, 4, 3, 2], [4, 1, 4, 3, 2, 4], [1, 4, 3, 2, 4, 3], [4, 3, 2, 4, 3, 1], [3, 2, 4, 3, 1, 4], [2, 4, 3, 1, 4, 1], [4, 3, 1, 4, 1, 4], [3, 1, 4, 1, 4, 1], [1, 4, 1, 4, 1, 4], [4, 1, 4, 1, 4, 2], [1, 4, 1, 4, 2, 3], [4, 1, 4, 2, 3, 4], [1, 4, 2, 3, 4, 2], [4, 2, 3, 4, 2, 2], [2, 3, 4, 2, 2, 4], [3, 4, 2, 2, 4, 4], [4, 2, 2, 4, 4, 2], [2, 2, 4, 4, 2, 4], [2, 4, 4, 2, 4, 2], [4, 4, 2, 4, 2, 4], [4, 2, 4, 2, 4, 3], [2, 4, 2, 4, 3, 4], [4, 2, 4, 3, 4, 1], [2, 4, 3, 4, 1, 3], [4, 3, 4, 1, 3, 1], [3, 4, 1, 3, 1, 4], [4, 1, 3, 1, 4, 2], [1, 3, 1, 4, 2, 2], [3, 1, 4, 2, 2, 3], [1, 4, 2, 2, 3, 2], [4, 2, 2, 3, 2, 1], [2, 2, 3, 2, 1, 3], [2, 3, 2, 1, 3, 4], [3, 2, 1, 3, 4, 4], [2, 1, 3, 4, 4, 1], [1, 3, 4, 4, 1, 4], [3, 4, 4, 1, 4, 1], [4, 4, 1, 4, 1, 4], [4, 1, 4, 1, 4, 4], [1, 4, 1, 4, 4, 3], [4, 1, 4, 4, 3, 4], [1, 4, 4, 3, 4, 3], [4, 4, 3, 4, 3, 1], [4, 3, 4, 3, 1, 4], [3, 4, 3, 1, 4, 4], [4, 3, 1, 4, 4, 1], [3, 1, 4, 4, 1, 4], [1, 4, 4, 1, 4, 1], [4, 4, 1, 4, 1, 1], [4, 1, 4, 1, 1, 4], [1, 4, 1, 1, 4, 1], [4, 1, 1, 4, 1, 4], [1, 1, 4, 1, 4, 4], [1, 4, 1, 4, 4, 3], [4, 1, 4, 4, 3, 4], [1, 4, 4, 3, 4, 3], [4, 4, 3, 4, 3, 4], [4, 3, 4, 3, 4, 4], [3, 4, 3, 4, 4, 1], [4, 3, 4, 4, 1, 1], [3, 4, 4, 1, 1, 4], [4, 4, 1, 1, 4, 1], [4, 1, 1, 4, 1, 2], [1, 1, 4, 1, 2, 1], [1, 4, 1, 2, 1, 3], [4, 1, 2, 1, 3, 4], [1, 2, 1, 3, 4, 1], [2, 1, 3, 4, 1, 2], [1, 3, 4, 1, 2, 2], [3, 4, 1, 2, 2, 1], [4, 1, 2, 2, 1, 1], [1, 2, 2, 1, 1, 1], [2, 2, 1, 1, 1, 1], [2, 1, 1, 1, 1, 4], [1, 1, 1, 1, 4, 4], [1, 1, 1, 4, 4, 2], [1, 1, 4, 4, 2, 1], [1, 4, 4, 2, 1, 4], [4, 4, 2, 1, 4, 4], [4, 2, 1, 4, 4, 1], [2, 1, 4, 4, 1, 3], [1, 4, 4, 1, 3, 2], [4, 4, 1, 3, 2, 3], [4, 1, 3, 2, 3, 4], [1, 3, 2, 3, 4, 4], [3, 2, 3, 4, 4, 1], [2, 3, 4, 4, 1, 3], [3, 4, 4, 1, 3, 1], [4, 4, 1, 3, 1, 4], [4, 1, 3, 1, 4, 3], [1, 3, 1, 4, 3, 4], [3, 1, 4, 3, 4, 2], [1, 4, 3, 4, 2, 4], [4, 3, 4, 2, 4, 2], [3, 4, 2, 4, 2, 1], [4, 2, 4, 2, 1, 3], [2, 4, 2, 1, 3, 1], [4, 2, 1, 3, 1, 1], [2, 1, 3, 1, 1, 2], [1, 3, 1, 1, 2, 4], [3, 1, 1, 2, 4, 4], [1, 1, 2, 4, 4, 3], [1, 2, 4, 4, 3, 2], [2, 4, 4, 3, 2, 4], [4, 4, 3, 2, 4, 3], [4, 3, 2, 4, 3, 1], [3, 2, 4, 3, 1, 4], [2, 4, 3, 1, 4, 4], [4, 3, 1, 4, 4, 4], [3, 1, 4, 4, 4, 1], [1, 4, 4, 4, 1, 1], [4, 4, 4, 1, 1, 4], [4, 4, 1, 1, 4, 4], [4, 1, 1, 4, 4, 4], [1, 1, 4, 4, 4, 4], [1, 4, 4, 4, 4, 1], [4, 4, 4, 4, 1, 1], [4, 4, 4, 1, 1, 1], [4, 4, 1, 1, 1, 4], [4, 1, 1, 1, 4, 3], [1, 1, 1, 4, 3, 1], [1, 1, 4, 3, 1, 1], [1, 4, 3, 1, 1, 4], [4, 3, 1, 1, 4, 3], [3, 1, 1, 4, 3, 3], [1, 1, 4, 3, 3, 4], [1, 4, 3, 3, 4, 4], [4, 3, 3, 4, 4, 1], [3, 3, 4, 4, 1, 4], [3, 4, 4, 1, 4, 3], [4, 4, 1, 4, 3, 4], [4, 1, 4, 3, 4, 1], [1, 4, 3, 4, 1, 1], [4, 3, 4, 1, 1, 4], [3, 4, 1, 1, 4, 2], [4, 1, 1, 4, 2, 2], [1, 1, 4, 2, 2, 3], [1, 4, 2, 2, 3, 1], [4, 2, 2, 3, 1, 4], [2, 2, 3, 1, 4, 3], [2, 3, 1, 4, 3, 3], [3, 1, 4, 3, 3, 1], [1, 4, 3, 3, 1, 2], [4, 3, 3, 1, 2, 3], [3, 3, 1, 2, 3, 4], [3, 1, 2, 3, 4, 1], [1, 2, 3, 4, 1, 1], [2, 3, 4, 1, 1, 2], [3, 4, 1, 1, 2, 3], [4, 1, 1, 2, 3, 4], [1, 1, 2, 3, 4, 4], [1, 2, 3, 4, 4, 3], [2, 3, 4, 4, 3, 4], [3, 4, 4, 3, 4, 1], [4, 4, 3, 4, 1, 2], [4, 3, 4, 1, 2, 4], [3, 4, 1, 2, 4, 1], [4, 1, 2, 4, 1, 4], [1, 2, 4, 1, 4, 4], [2, 4, 1, 4, 4, 1], [4, 1, 4, 4, 1, 4], [1, 4, 4, 1, 4, 2], [4, 4, 1, 4, 2, 1], [4, 1, 4, 2, 1, 1], [1, 4, 2, 1, 1, 2], [4, 2, 1, 1, 2, 1], [2, 1, 1, 2, 1, 3], [1, 1, 2, 1, 3, 1], [1, 2, 1, 3, 1, 2], [2, 1, 3, 1, 2, 1], [1, 3, 1, 2, 1, 3], [3, 1, 2, 1, 3, 1], [1, 2, 1, 3, 1, 4], [2, 1, 3, 1, 4, 3], [1, 3, 1, 4, 3, 1], [3, 1, 4, 3, 1, 1], [1, 4, 3, 1, 1, 3], [4, 3, 1, 1, 3, 2], [3, 1, 1, 3, 2, 3], [1, 1, 3, 2, 3, 1], [1, 3, 2, 3, 1, 1], [3, 2, 3, 1, 1, 4], [2, 3, 1, 1, 4, 1], [3, 1, 1, 4, 1, 1], [1, 1, 4, 1, 1, 1], [1, 4, 1, 1, 1, 4], [4, 1, 1, 1, 4, 3], [1, 1, 1, 4, 3, 3], [1, 1, 4, 3, 3, 1], [1, 4, 3, 3, 1, 4], [4, 3, 3, 1, 4, 1], [3, 3, 1, 4, 1, 4], [3, 1, 4, 1, 4, 2], [1, 4, 1, 4, 2, 1], [4, 1, 4, 2, 1, 1], [1, 4, 2, 1, 1, 4], [4, 2, 1, 1, 4, 3], [2, 1, 1, 4, 3, 3], [1, 1, 4, 3, 3, 3], [1, 4, 3, 3, 3, 1], [4, 3, 3, 3, 1, 3], [3, 3, 3, 1, 3, 1], [3, 3, 1, 3, 1, 1], [3, 1, 3, 1, 1, 4], [1, 3, 1, 1, 4, 2], [3, 1, 1, 4, 2, 1], [1, 1, 4, 2, 1, 4], [1, 4, 2, 1, 4, 3], [4, 2, 1, 4, 3, 4], [2, 1, 4, 3, 4, 1], [1, 4, 3, 4, 1, 2], [4, 3, 4, 1, 2, 1], [3, 4, 1, 2, 1, 3], [4, 1, 2, 1, 3, 4], [1, 2, 1, 3, 4, 4], [2, 1, 3, 4, 4, 1], [1, 3, 4, 4, 1, 1], [3, 4, 4, 1, 1, 1], [4, 4, 1, 1, 1, 3], [4, 1, 1, 1, 3, 4], [1, 1, 1, 3, 4, 1], [1, 1, 3, 4, 1, 4], [1, 3, 4, 1, 4, 3], [3, 4, 1, 4, 3, 4], [4, 1, 4, 3, 4, 2], [1, 4, 3, 4, 2, 2], [4, 3, 4, 2, 2, 2], [3, 4, 2, 2, 2, 4], [4, 2, 2, 2, 4, 4], [2, 2, 2, 4, 4, 1], [2, 2, 4, 4, 1, 1], [2, 4, 4, 1, 1, 1], [4, 4, 1, 1, 1, 4], [4, 1, 1, 1, 4, 1], [1, 1, 1, 4, 1, 2], [1, 1, 4, 1, 2, 1], [1, 4, 1, 2, 1, 2], [4, 1, 2, 1, 2, 1], [1, 2, 1, 2, 1, 1], [2, 1, 2, 1, 1, 1], [1, 2, 1, 1, 1, 2], [2, 1, 1, 1, 2, 4], [1, 1, 1, 2, 4, 4], [1, 1, 2, 4, 4, 4], [1, 2, 4, 4, 4, 1], [2, 4, 4, 4, 1, 3], [4, 4, 4, 1, 3, 3], [4, 4, 1, 3, 3, 1], [4, 1, 3, 3, 1, 1], [1, 3, 3, 1, 1, 4], [3, 3, 1, 1, 4, 4], [3, 1, 1, 4, 4, 3], [1, 1, 4, 4, 3, 3], [1, 4, 4, 3, 3, 1], [4, 4, 3, 3, 1, 4], [4, 3, 3, 1, 4, 3], [3, 3, 1, 4, 3, 4], [3, 1, 4, 3, 4, 1], [1, 4, 3, 4, 1, 2], [4, 3, 4, 1, 2, 3], [3, 4, 1, 2, 3, 1], [4, 1, 2, 3, 1, 2], [1, 2, 3, 1, 2, 1], [2, 3, 1, 2, 1, 1], [3, 1, 2, 1, 1, 2], [1, 2, 1, 1, 2, 2], [2, 1, 1, 2, 2, 3], [1, 1, 2, 2, 3, 1], [1, 2, 2, 3, 1, 2], [2, 2, 3, 1, 2, 3], [2, 3, 1, 2, 3, 4], [3, 1, 2, 3, 4, 2], [1, 2, 3, 4, 2, 1], [2, 3, 4, 2, 1, 2], [3, 4, 2, 1, 2, 1], [4, 2, 1, 2, 1, 1], [2, 1, 2, 1, 1, 2], [1, 2, 1, 1, 2, 1], [2, 1, 1, 2, 1, 4], [1, 1, 2, 1, 4, 4], [1, 2, 1, 4, 4, 4], [2, 1, 4, 4, 4, 3], [1, 4, 4, 4, 3, 1], [4, 4, 4, 3, 1, 1], [4, 4, 3, 1, 1, 3], [4, 3, 1, 1, 3, 1], [3, 1, 1, 3, 1, 3], [1, 1, 3, 1, 3, 3], [1, 3, 1, 3, 3, 4], [3, 1, 3, 3, 4, 1], [1, 3, 3, 4, 1, 3], [3, 3, 4, 1, 3, 2], [3, 4, 1, 3, 2, 1], [4, 1, 3, 2, 1, 1], [1, 3, 2, 1, 1, 1], [3, 2, 1, 1, 1, 4], [2, 1, 1, 1, 4, 3], [1, 1, 1, 4, 3, 2], [1, 1, 4, 3, 2, 3], [1, 4, 3, 2, 3, 3], [4, 3, 2, 3, 3, 1], [3, 2, 3, 3, 1, 1], [2, 3, 3, 1, 1, 1], [3, 3, 1, 1, 1, 1], [3, 1, 1, 1, 1, 1], [1, 1, 1, 1, 1, 4], [1, 1, 1, 1, 4, 4], [1, 1, 1, 4, 4, 1], [1, 1, 4, 4, 1, 3], [1, 4, 4, 1, 3, 4], [4, 4, 1, 3, 4, 1], [4, 1, 3, 4, 1, 1], [1, 3, 4, 1, 1, 4], [3, 4, 1, 1, 4, 1], [4, 1, 1, 4, 1, 1], [1, 1, 4, 1, 1, 2], [1, 4, 1, 1, 2, 4], [4, 1, 1, 2, 4, 3], [1, 1, 2, 4, 3, 1], [1, 2, 4, 3, 1, 2], [2, 4, 3, 1, 2, 3], [4, 3, 1, 2, 3, 4], [3, 1, 2, 3, 4, 2], [1, 2, 3, 4, 2, 3], [2, 3, 4, 2, 3, 4], [3, 4, 2, 3, 4, 3], [4, 2, 3, 4, 3, 3], [2, 3, 4, 3, 3, 1], [3, 4, 3, 3, 1, 4], [4, 3, 3, 1, 4, 3], [3, 3, 1, 4, 3, 3], [3, 1, 4, 3, 3, 1], [1, 4, 3, 3, 1, 3], [4, 3, 3, 1, 3, 4], [3, 3, 1, 3, 4, 2], [3, 1, 3, 4, 2, 1], [1, 3, 4, 2, 1, 1], [3, 4, 2, 1, 1, 4], [4, 2, 1, 1, 4, 2], [2, 1, 1, 4, 2, 1], [1, 1, 4, 2, 1, 4], [1, 4, 2, 1, 4, 1], [4, 2, 1, 4, 1, 1], [2, 1, 4, 1, 1, 3], [1, 4, 1, 1, 3, 1], [4, 1, 1, 3, 1, 4], [1, 1, 3, 1, 4, 4], [1, 3, 1, 4, 4, 1], [3, 1, 4, 4, 1, 1], [1, 4, 4, 1, 1, 4], [4, 4, 1, 1, 4, 1], [4, 1, 1, 4, 1, 4], [1, 1, 4, 1, 4, 4], [1, 4, 1, 4, 4, 1], [4, 1, 4, 4, 1, 2], [1, 4, 4, 1, 2, 1], [4, 4, 1, 2, 1, 3], [4, 1, 2, 1, 3, 4], [1, 2, 1, 3, 4, 3], [2, 1, 3, 4, 3, 1], [1, 3, 4, 3, 1, 1], [3, 4, 3, 1, 1, 4], [4, 3, 1, 1, 4, 1], [3, 1, 1, 4, 1, 2], [1, 1, 4, 1, 2, 1], [1, 4, 1, 2, 1, 4], [4, 1, 2, 1, 4, 3], [1, 2, 1, 4, 3, 4], [2, 1, 4, 3, 4, 1], [1, 4, 3, 4, 1, 2], [4, 3, 4, 1, 2, 4], [3, 4, 1, 2, 4, 1], [4, 1, 2, 4, 1, 4], [1, 2, 4, 1, 4, 1], [2, 4, 1, 4, 1, 2], [4, 1, 4, 1, 2, 3], [1, 4, 1, 2, 3, 3], [4, 1, 2, 3, 3, 1], [1, 2, 3, 3, 1, 1], [2, 3, 3, 1, 1, 4], [3, 3, 1, 1, 4, 4], [3, 1, 1, 4, 4, 3], [1, 1, 4, 4, 3, 4], [1, 4, 4, 3, 4, 1], [4, 4, 3, 4, 1, 1], [4, 3, 4, 1, 1, 1], [3, 4, 1, 1, 1, 1], [4, 1, 1, 1, 1, 1], [1, 1, 1, 1, 1, 1], [1, 1, 1, 1, 1, 4], [1, 1, 1, 1, 4, 4], [1, 1, 1, 4, 4, 1], [1, 1, 4, 4, 1, 3], [1, 4, 4, 1, 3, 3], [4, 4, 1, 3, 3, 1], [4, 1, 3, 3, 1, 2], [1, 3, 3, 1, 2, 2], [3, 3, 1, 2, 2, 3], [3, 1, 2, 2, 3, 1], [1, 2, 2, 3, 1, 3], [2, 2, 3, 1, 3, 1], [2, 3, 1, 3, 1, 3], [3, 1, 3, 1, 3, 1], [1, 3, 1, 3, 1, 1], [3, 1, 3, 1, 1, 1], [1, 3, 1, 1, 1, 1], [3, 1, 1, 1, 1, 4], [1, 1, 1, 1, 4, 3], [1, 1, 1, 4, 3, 4], [1, 1, 4, 3, 4, 1], [1, 4, 3, 4, 1, 3], [4, 3, 4, 1, 3, 2], [3, 4, 1, 3, 2, 1], [4, 1, 3, 2, 1, 1], [1, 3, 2, 1, 1, 4], [3, 2, 1, 1, 4, 4], [2, 1, 1, 4, 4, 1], [1, 1, 4, 4, 1, 4], [1, 4, 4, 1, 4, 1], [4, 4, 1, 4, 1, 2], [4, 1, 4, 1, 2, 1], [1, 4, 1, 2, 1, 1], [4, 1, 2, 1, 1, 3], [1, 2, 1, 1, 3, 4], [2, 1, 1, 3, 4, 3], [1, 1, 3, 4, 3, 3], [1, 3, 4, 3, 3, 3], [3, 4, 3, 3, 3, 4], [4, 3, 3, 3, 4, 1], [3, 3, 3, 4, 1, 3], [3, 3, 4, 1, 3, 4], [3, 4, 1, 3, 4, 4], [4, 1, 3, 4, 4, 2], [1, 3, 4, 4, 2, 4], [3, 4, 4, 2, 4, 3], [4, 4, 2, 4, 3, 1], [4, 2, 4, 3, 1, 2], [2, 4, 3, 1, 2, 3], [4, 3, 1, 2, 3, 4], [3, 1, 2, 3, 4, 2], [1, 2, 3, 4, 2, 1], [2, 3, 4, 2, 1, 4], [3, 4, 2, 1, 4, 1], [4, 2, 1, 4, 1, 3], [2, 1, 4, 1, 3, 1], [1, 4, 1, 3, 1, 2], [4, 1, 3, 1, 2, 1], [1, 3, 1, 2, 1, 4], [3, 1, 2, 1, 4, 1], [1, 2, 1, 4, 1, 1], [2, 1, 4, 1, 1, 2], [1, 4, 1, 1, 2, 1], [4, 1, 1, 2, 1, 3], [1, 1, 2, 1, 3, 2], [1, 2, 1, 3, 2, 1], [2, 1, 3, 2, 1, 3], [1, 3, 2, 1, 3, 1], [3, 2, 1, 3, 1, 4], [2, 1, 3, 1, 4, 2], [1, 3, 1, 4, 2, 2], [3, 1, 4, 2, 2, 1], [1, 4, 2, 2, 1, 1], [4, 2, 2, 1, 1, 2], [2, 2, 1, 1, 2, 1], [2, 1, 1, 2, 1, 1], [1, 1, 2, 1, 1, 2], [1, 2, 1, 1, 2, 3], [2, 1, 1, 2, 3, 1], [1, 1, 2, 3, 1, 4], [1, 2, 3, 1, 4, 1], [2, 3, 1, 4, 1, 2], [3, 1, 4, 1, 2, 2], [1, 4, 1, 2, 2, 1], [4, 1, 2, 2, 1, 2], [1, 2, 2, 1, 2, 1], [2, 2, 1, 2, 1, 1], [2, 1, 2, 1, 1, 1], [1, 2, 1, 1, 1, 2], [2, 1, 1, 1, 2, 4], [1, 1, 1, 2, 4, 3], [1, 1, 2, 4, 3, 1], [1, 2, 4, 3, 1, 1], [2, 4, 3, 1, 1, 1], [4, 3, 1, 1, 1, 3], [3, 1, 1, 1, 3, 1], [1, 1, 1, 3, 1, 1], [1, 1, 3, 1, 1, 4], [1, 3, 1, 1, 4, 3], [3, 1, 1, 4, 3, 1], [1, 1, 4, 3, 1, 4], [1, 4, 3, 1, 4, 3], [4, 3, 1, 4, 3, 2], [3, 1, 4, 3, 2, 3], [1, 4, 3, 2, 3, 1], [4, 3, 2, 3, 1, 1], [3, 2, 3, 1, 1, 4], [2, 3, 1, 1, 4, 1], [3, 1, 1, 4, 1, 1], [1, 1, 4, 1, 1, 1], [1, 4, 1, 1, 1, 2], [4, 1, 1, 1, 2, 4], [1, 1, 1, 2, 4, 3], [1, 1, 2, 4, 3, 3], [1, 2, 4, 3, 3, 1], [2, 4, 3, 3, 1, 1], [4, 3, 3, 1, 1, 1], [3, 3, 1, 1, 1, 1], [3, 1, 1, 1, 1, 1], [1, 1, 1, 1, 1, 1], [1, 1, 1, 1, 1, 4], [1, 1, 1, 1, 4, 3], [1, 1, 1, 4, 3, 3], [1, 1, 4, 3, 3, 4], [1, 4, 3, 3, 4, 3], [4, 3, 3, 4, 3, 3], [3, 3, 4, 3, 3, 2], [3, 4, 3, 3, 2, 1], [4, 3, 3, 2, 1, 3], [3, 3, 2, 1, 3, 3], [3, 2, 1, 3, 3, 4], [2, 1, 3, 3, 4, 3], [1, 3, 3, 4, 3, 4], [3, 3, 4, 3, 4, 4], [3, 4, 3, 4, 4, 4], [4, 3, 4, 4, 4, 4], [3, 4, 4, 4, 4, 1], [4, 4, 4, 4, 1, 4], [4, 4, 4, 1, 4, 1], [4, 4, 1, 4, 1, 2], [4, 1, 4, 1, 2, 2], [1, 4, 1, 2, 2, 3], [4, 1, 2, 2, 3, 4]]\n"
     ]
    }
   ],
   "source": [
    "\n",
    "\n",
    "labels = {\n",
    "    \"1\": \"Rotavirus\",\n",
    "    \"2\": \"HIV\",\n",
    "    \"3\": \"Herpesvirales\",\n",
    "    \"4\": \"Dengue\",\n",
    "    \"5\": \"HepatitisB\",\n",
    "    \"6\": \"Alphainfluenza\"\n",
    "}\n",
    "\n",
    "for i in range(1, 2):\n",
    "    \n",
    "    seqpath = \"Data/sequences{}.fasta\".format(i)\n",
    "    fasta_sequences = SeqIO.parse(open(seqpath),'fasta')\n",
    "    seqarr = []\n",
    "    lens = []\n",
    "\n",
    "    for fasta in fasta_sequences:\n",
    "        id, sequence = fasta.id, str(fasta.seq)\n",
    "        \n",
    "        if len(sequence) <= 2000:\n",
    "            seqarr.append(sequence)\n",
    "            lens.append(len(sequence))\n",
    "            \n",
    "    random.shuffle(seqarr)\n",
    "    seqarr = seqarr[0:11805]\n",
    "    sentence = []\n",
    "    for seq in seqarr:\n",
    "        seq = seq.replace('A', '1')\n",
    "        seq = seq.replace('C', '2')\n",
    "        seq = seq.replace('G', '3')\n",
    "        seq = seq.replace('T', '4')\n",
    "        seq = seq.replace('N', '0')\n",
    "        seq = seq.replace('R', '5')\n",
    "        seq = seq.replace('Y', '6')\n",
    "        seq = seq.replace('M', '7')\n",
    "        seq = seq.replace('W', '8')\n",
    "        seq = seq.replace('S', '9')\n",
    "        seq = seq.replace('K', '10')\n",
    "        seqword = []\n",
    "        for i in range(1, len(seq) - kmer):\n",
    "            if(len(seq[i: i + 6]) == 6):\n",
    "                seqword.append(list(map(int, seq[i: i + 6])))\n",
    "\n",
    "        sentence.append(seqword)\n",
    "        \n",
    "    print(sentence[0])\n",
    "    \n"
   ]
  },
  {
   "cell_type": "code",
   "execution_count": 23,
   "id": "737042a8",
   "metadata": {
    "scrolled": true
   },
   "outputs": [
    {
     "data": {
      "image/png": "[encoded data removed]",
      "text/plain": [
       "<Figure size 640x480 with 1 Axes>"
      ]
     },
     "metadata": {},
     "output_type": "display_data"
    }
   ],
   "source": [
    "plt.hist(x=lens, bins=10)\n",
    "plt.show()"
   ]
  },
  {
   "cell_type": "code",
   "execution_count": 39,
   "id": "f68c03bf",
   "metadata": {},
   "outputs": [],
   "source": [
    "from Bio import SeqIO\n",
    "import numpy as np\n",
    "import random\n",
    "import matplotlib.pyplot as plt\n",
    "\n",
    "kmer = 6"
   ]
  },
  {
   "cell_type": "code",
   "execution_count": 115,
   "id": "7f6b63a7",
   "metadata": {},
   "outputs": [
    {
     "name": "stdout",
     "output_type": "stream",
     "text": [
      "44152\n",
      "dict_keys(['1', '2', '3', '4', '5', '6'])\n"
     ]
    }
   ],
   "source": [
    "labels = {\n",
    "    \"1\": \"Rotavirus\",\n",
    "    \"2\": \"HIV\",\n",
    "    \"3\": \"Herpesvirales\",\n",
    "    \"4\": \"Dengue\",\n",
    "    \"5\": \"HepatitisB\",\n",
    "    \"6\": \"Alphainfluenza\"\n",
    "}\n",
    "vocab = set()\n",
    "\n",
    "alls = {}\n",
    "maxl = 0\n",
    "for j in range(1, 7):\n",
    "    \n",
    "    seqpath = \"Data/sequences{}.fasta\".format(j)\n",
    "    fasta_sequences = SeqIO.parse(open(seqpath),'fasta')\n",
    "    seqarr = []\n",
    "    lens = []\n",
    "\n",
    "    for fasta in fasta_sequences:\n",
    "        id, sequence = fasta.id, str(fasta.seq)\n",
    "        \n",
    "        if len(sequence) <= 2000:\n",
    "            seqarr.append(sequence)\n",
    "            lens.append(len(sequence))\n",
    "            \n",
    "    random.shuffle(seqarr)\n",
    "    seqarr = seqarr[0:11805]\n",
    "    sentences = []\n",
    "    for seq in seqarr:\n",
    "\n",
    "        seqword = []\n",
    "        for i in range(1, len(seq) - kmer):\n",
    "            if(len(seq[i: i + 6]) == 6):\n",
    "                seqword.append(seq[i: i + 6])\n",
    "            \n",
    "        if len(seqword) > maxl:\n",
    "            maxl = len(seqword)\n",
    "        vocab = vocab | set(seqword)\n",
    "        sentences.append(seqword)\n",
    "    alls[str(j)] = sentences\n",
    "        \n",
    "print(len(vocab))\n",
    "print(alls.keys())"
   ]
  },
  {
   "cell_type": "code",
   "execution_count": 123,
   "id": "0061894c",
   "metadata": {},
   "outputs": [
    {
     "data": {
      "text/plain": [
       "tensor([[[-0.4844, -0.9287, -0.3268, -0.3945, -1.0876, -0.6613, -0.1898,\n",
       "           0.6450],\n",
       "         [-2.2579, -1.2972, -0.9011,  0.7067, -2.0735, -0.7316,  1.3920,\n",
       "          -1.8237],\n",
       "         [-0.9743,  1.7252, -0.4042,  1.0655, -1.3040, -2.2441,  1.5794,\n",
       "           1.0502],\n",
       "         [-2.3836,  0.0443,  0.5473,  0.5508, -0.0886, -0.5879,  0.5406,\n",
       "          -0.0731],\n",
       "         [-2.2579, -1.2972, -0.9011,  0.7067, -2.0735, -0.7316,  1.3920,\n",
       "          -1.8237],\n",
       "         [-2.2579, -1.2972, -0.9011,  0.7067, -2.0735, -0.7316,  1.3920,\n",
       "          -1.8237]],\n",
       "\n",
       "        [[-2.2579, -1.2972, -0.9011,  0.7067, -2.0735, -0.7316,  1.3920,\n",
       "          -1.8237],\n",
       "         [-0.9743,  1.7252, -0.4042,  1.0655, -1.3040, -2.2441,  1.5794,\n",
       "           1.0502],\n",
       "         [-2.3836,  0.0443,  0.5473,  0.5508, -0.0886, -0.5879,  0.5406,\n",
       "          -0.0731],\n",
       "         [-2.2579, -1.2972, -0.9011,  0.7067, -2.0735, -0.7316,  1.3920,\n",
       "          -1.8237],\n",
       "         [-2.2579, -1.2972, -0.9011,  0.7067, -2.0735, -0.7316,  1.3920,\n",
       "          -1.8237],\n",
       "         [-0.9743,  1.7252, -0.4042,  1.0655, -1.3040, -2.2441,  1.5794,\n",
       "           1.0502]]], grad_fn=<EmbeddingBackward>)"
      ]
     },
     "execution_count": 123,
     "metadata": {},
     "output_type": "execute_result"
    }
   ],
   "source": [
    "embedding = nn.Embedding(52, 8)\n",
    "input = torch.LongTensor([[51, 1, 4, 2, 1, 1], [1, 4, 2, 1, 1, 4]])\n",
    "embedding(input)"
   ]
  },
  {
   "cell_type": "code",
   "execution_count": 116,
   "id": "24126e3f",
   "metadata": {},
   "outputs": [],
   "source": [
    "vocab = sorted(vocab)\n",
    "vocab_list = list(vocab)    "
   ]
  },
  {
   "cell_type": "code",
   "execution_count": 126,
   "id": "6f7d86b0",
   "metadata": {},
   "outputs": [
    {
     "data": {
      "text/plain": [
       "torch.Size([6, 1900, 4])"
      ]
     },
     "execution_count": 126,
     "metadata": {},
     "output_type": "execute_result"
    }
   ],
   "source": [
    "t = torch.ones(6,1900).to(torch.int64)\n",
    "emb = nn.Embedding(3000, 4)\n",
    "emb(t).size()"
   ]
  },
  {
   "cell_type": "code",
   "execution_count": 119,
   "id": "bfd9a5a3",
   "metadata": {},
   "outputs": [
    {
     "name": "stdout",
     "output_type": "stream",
     "text": [
      "1\n"
     ]
    },
    {
     "ename": "KeyboardInterrupt",
     "evalue": "",
     "output_type": "error",
     "traceback": [
      "\u001b[1;31m---------------------------------------------------------------------------\u001b[0m",
      "\u001b[1;31mKeyboardInterrupt\u001b[0m                         Traceback (most recent call last)",
      "\u001b[1;32m<ipython-input-119-6827146f9fef>\u001b[0m in \u001b[0;36m<module>\u001b[1;34m\u001b[0m\n\u001b[0;32m      6\u001b[0m         \u001b[0mk\u001b[0m \u001b[1;33m=\u001b[0m \u001b[1;36m0\u001b[0m\u001b[1;33m\u001b[0m\u001b[1;33m\u001b[0m\u001b[0m\n\u001b[0;32m      7\u001b[0m         \u001b[1;32mfor\u001b[0m \u001b[0mword\u001b[0m \u001b[1;32min\u001b[0m \u001b[0msentence\u001b[0m\u001b[1;33m:\u001b[0m\u001b[1;33m\u001b[0m\u001b[1;33m\u001b[0m\u001b[0m\n\u001b[1;32m----> 8\u001b[1;33m             \u001b[0midx\u001b[0m \u001b[1;33m=\u001b[0m \u001b[0mvocab_list\u001b[0m\u001b[1;33m.\u001b[0m\u001b[0mindex\u001b[0m\u001b[1;33m(\u001b[0m\u001b[0mword\u001b[0m\u001b[1;33m)\u001b[0m \u001b[1;33m+\u001b[0m \u001b[1;36m1\u001b[0m\u001b[1;33m\u001b[0m\u001b[1;33m\u001b[0m\u001b[0m\n\u001b[0m\u001b[0;32m      9\u001b[0m             \u001b[0marr\u001b[0m\u001b[1;33m[\u001b[0m\u001b[0mj\u001b[0m\u001b[1;33m]\u001b[0m\u001b[1;33m[\u001b[0m\u001b[0mk\u001b[0m\u001b[1;33m]\u001b[0m \u001b[1;33m=\u001b[0m \u001b[0midx\u001b[0m\u001b[1;33m\u001b[0m\u001b[1;33m\u001b[0m\u001b[0m\n\u001b[0;32m     10\u001b[0m             \u001b[0mk\u001b[0m \u001b[1;33m+=\u001b[0m \u001b[1;36m1\u001b[0m\u001b[1;33m\u001b[0m\u001b[1;33m\u001b[0m\u001b[0m\n",
      "\u001b[1;31mKeyboardInterrupt\u001b[0m: "
     ]
    }
   ],
   "source": [
    "for i in alls:\n",
    "    print(i)\n",
    "    j = 0\n",
    "    arr = np.zeros((11805, maxl), dtype = int)\n",
    "    for sentence in alls[i]:\n",
    "        k = 0\n",
    "        for word in sentence:\n",
    "            idx = vocab_list.index(word) + 1\n",
    "            arr[j][k] = idx\n",
    "            k += 1\n",
    "        j += 1\n",
    "        \n",
    "    print('bla')\n",
    "    np.random.shuffle(arr)\n",
    "    train = arr[0:8263]\n",
    "    val = arr[8263:10034]\n",
    "    test = arr[10034:]\n",
    "\n",
    "    np.save(\"Data/Train/\" + i + \"/1.npy\", train)\n",
    "    np.save(\"Data/Val/\" + i + \"/2.npy\", val)\n",
    "    np.save(\"Data/Test/\" + i + \"/3.npy\", test)"
   ]
  }
 ],
 "metadata": {
  "kernelspec": {
   "display_name": "Python 3",
   "language": "python",
   "name": "python3"
  },
  "language_info": {
   "codemirror_mode": {
    "name": "ipython",
    "version": 3
   },
   "file_extension": ".py",
   "mimetype": "text/x-python",
   "name": "python",
   "nbconvert_exporter": "python",
   "pygments_lexer": "ipython3",
   "version": "3.7.11"
  }
 },
 "nbformat": 4,
 "nbformat_minor": 5
}
