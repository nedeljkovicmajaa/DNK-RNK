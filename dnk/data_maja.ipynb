{
 "cells": [
  {
   "cell_type": "code",
   "execution_count": null,
   "metadata": {
    "collapsed": true
   },
   "outputs": [],
   "source": [
    "from Bio import SeqIO\n",
    "from seq2vec import Seq2VecHash\n",
    "\n",
    "input_file = \"C:/Users/Zephyrus/Downloads/sequences (4).fasta\"\n",
    "fasta_sequences = SeqIO.parse(open(input_file),'fasta')\n",
    "i = 0\n",
    "all_sq = []\n",
    "vl = 0\n",
    "for fasta in fasta_sequences:\n",
    "    name, sequence = fasta.id, str(fasta.seq)\n",
    "    duzina = fasta.description.split('|')[10]\n",
    "    if(duzina > vl):\n",
    "        vl = duzina\n",
    "    all_sq = [all_sq,sequence]\n",
    "    i = i+1\n",
    "    if i == 5:\n",
    "        break\n",
    "print(all_sq)\n",
    "print(' ')\n",
    "result = Seq2VecHash(vector_length=vl).transform(all_sq)\n",
    "print(result)"
   ]
  }
 ],
 "metadata": {
  "kernelspec": {
   "display_name": "Python 3",
   "language": "python",
   "name": "python3"
  },
  "language_info": {
   "codemirror_mode": {
    "name": "ipython",
    "version": 2
   },
   "file_extension": ".py",
   "mimetype": "text/x-python",
   "name": "python",
   "nbconvert_exporter": "python",
   "pygments_lexer": "ipython2",
   "version": "2.7.6"
  }
 },
 "nbformat": 4,
 "nbformat_minor": 0
}