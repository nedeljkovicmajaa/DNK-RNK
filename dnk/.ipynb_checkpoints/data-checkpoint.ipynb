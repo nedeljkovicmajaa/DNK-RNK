{
 "cells": [
  {
   "cell_type": "code",
   "execution_count": 7,
   "id": "1233784e",
   "metadata": {},
   "outputs": [
    {
     "name": "stdout",
     "output_type": "stream",
     "text": [
      "76641\n"
     ]
    }
   ],
   "source": [
    "from Bio import SeqIO\n",
    "import numpy as np\n",
    "import random\n",
    "import matplotlib.pyplot as plt\n",
    "\n",
    "\n",
    "seqpath = \"Data/sequences1.fasta\"\n",
    "fasta_sequences = SeqIO.parse(open(seqpath),'fasta')\n",
    "seqarr = []\n",
    "lens = []\n",
    "for fasta in fasta_sequences:\n",
    "    id, sequence = fasta.id, str(fasta.seq)\n",
    "    if len(sequence) <= 2000:\n",
    "        seqarr.append(np.asarray(sequence))\n",
    "        lens.append(len(sequence))\n",
    "print(len(seqarr))    \n",
    "    \n"
   ]
  },
  {
   "cell_type": "code",
   "execution_count": 2,
   "id": "f68c03bf",
   "metadata": {},
   "outputs": [],
   "source": [
    "randomlist = random.sample(range(0, len(seqarr)), 15000)"
   ]
  },
  {
   "cell_type": "code",
   "execution_count": 3,
   "id": "737042a8",
   "metadata": {},
   "outputs": [
    {
     "data": {
      "image/png": "[encoded data removed]",
      "text/plain": [
       "<Figure size 640x480 with 1 Axes>"
      ]
     },
     "metadata": {},
     "output_type": "display_data"
    }
   ],
   "source": [
    "plt.hist(x=lens, bins=10)\n",
    "plt.show()"
   ]
  },
  {
   "cell_type": "code",
   "execution_count": 4,
   "id": "7f6b63a7",
   "metadata": {},
   "outputs": [],
   "source": [
    "import torch.nn as nn\n",
    "import torch"
   ]
  },
  {
   "cell_type": "code",
   "execution_count": 5,
   "id": "0061894c",
   "metadata": {},
   "outputs": [
    {
     "data": {
      "text/plain": [
       "tensor([[[ 0.2253,  0.4941, -1.8223],\n",
       "         [-2.3714, -1.9403,  0.6291],\n",
       "         [ 0.2729, -0.0939, -2.1947],\n",
       "         [-0.5606,  0.8362,  0.0265]],\n",
       "\n",
       "        [[ 0.2729, -0.0939, -2.1947],\n",
       "         [-1.6282, -1.1159, -0.9251],\n",
       "         [-2.3714, -1.9403,  0.6291],\n",
       "         [-0.1678, -1.9837,  0.0504]]], grad_fn=<EmbeddingBackward>)"
      ]
     },
     "execution_count": 5,
     "metadata": {},
     "output_type": "execute_result"
    }
   ],
   "source": [
    "embedding = nn.Embedding(10, 3)\n",
    "input = torch.LongTensor([[1,2,4,5],[4,3,2,9]])\n",
    "embedding(input)"
   ]
  }
 ],
 "metadata": {
  "kernelspec": {
   "display_name": "Python 3",
   "language": "python",
   "name": "python3"
  },
  "language_info": {
   "codemirror_mode": {
    "name": "ipython",
    "version": 3
   },
   "file_extension": ".py",
   "mimetype": "text/x-python",
   "name": "python",
   "nbconvert_exporter": "python",
   "pygments_lexer": "ipython3",
   "version": "3.7.11"
  }
 },
 "nbformat": 4,
 "nbformat_minor": 5
}
